{
 "cells": [
  {
   "cell_type": "code",
   "execution_count": 5,
   "metadata": {},
   "outputs": [],
   "source": [
    "from PIL import Image\n",
    "import face_recognition\n",
    "\n",
    "path = '/Users/yusin-yeong/python/face_detector/samples/joli.jpg'\n",
    "image = face_recognition.load_image_file(path)\n",
    "face_locations = face_recognition.face_locations(image)\n",
    "img = path.split(\".\")[0]\n",
    "for face_location in face_locations:\n",
    "    top, right, bottom, left = face_location\n",
    "\n",
    "    face_image = image[top:bottom, left:right]\n",
    "    pil_image = Image.fromarray(face_image)\n",
    "    pil_image.show()\n",
    "    pil_image.save(f'{img}.jpg')"
   ]
  }
 ],
 "metadata": {
  "interpreter": {
   "hash": "9fd7ae3d170572ce1c486621fff7d1c3fbd5e263614e967eb496fc7d0b369b02"
  },
  "kernelspec": {
   "display_name": "Python 3.8.0 ('face_detector')",
   "language": "python",
   "name": "python3"
  },
  "language_info": {
   "codemirror_mode": {
    "name": "ipython",
    "version": 3
   },
   "file_extension": ".py",
   "mimetype": "text/x-python",
   "name": "python",
   "nbconvert_exporter": "python",
   "pygments_lexer": "ipython3",
   "version": "3.8.0"
  },
  "orig_nbformat": 4
 },
 "nbformat": 4,
 "nbformat_minor": 2
}
